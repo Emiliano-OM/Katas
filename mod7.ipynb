{
 "cells": [
  {
   "cell_type": "markdown",
   "metadata": {},
   "source": [
    "Ciclado while y for"
   ]
  },
  {
   "cell_type": "code",
   "execution_count": 7,
   "metadata": {},
   "outputs": [
    {
     "name": "stdout",
     "output_type": "stream",
     "text": [
      "Finalizado\n",
      "Lista resultante:  ['tierra', 'venus', 'marte']\n"
     ]
    }
   ],
   "source": [
    "new_planet=input(\"Ingrese el nombre de un planeta: \")\n",
    "planets = []\n",
    "\n",
    "while new_planet != \"done\":\n",
    "    planets.append(new_planet)\n",
    "    new_planet=input(\"\"\"Ingrese otro planeta o si ya acabo ingrese \"done\": \"\"\")\n",
    "\n",
    "print(\"Finalizado\")\n",
    "print(\"Lista resultante: \", planets[0:])\n",
    "\n"
   ]
  },
  {
   "cell_type": "code",
   "execution_count": 9,
   "metadata": {},
   "outputs": [
    {
     "name": "stdout",
     "output_type": "stream",
     "text": [
      "a\n",
      "a\n",
      "a\n",
      "a\n",
      "d\n",
      "d\n",
      "a\n",
      "s\n",
      "d\n",
      "a\n"
     ]
    }
   ],
   "source": [
    "planets=[]\n",
    "planets=input(\"Ingrese el nombre de un planeta: \")\n",
    "for planet in planets:\n",
    "    print(planet)"
   ]
  }
 ],
 "metadata": {
  "interpreter": {
   "hash": "57baa5815c940fdaff4d14510622de9616cae602444507ba5d0b6727c008cbd6"
  },
  "kernelspec": {
   "display_name": "Python 3.7.8 64-bit",
   "language": "python",
   "name": "python3"
  },
  "language_info": {
   "codemirror_mode": {
    "name": "ipython",
    "version": 3
   },
   "file_extension": ".py",
   "mimetype": "text/x-python",
   "name": "python",
   "nbconvert_exporter": "python",
   "pygments_lexer": "ipython3",
   "version": "3.7.8"
  },
  "orig_nbformat": 4
 },
 "nbformat": 4,
 "nbformat_minor": 2
}
