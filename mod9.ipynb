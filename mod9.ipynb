{
 "cells": [
  {
   "cell_type": "code",
   "execution_count": 2,
   "metadata": {},
   "outputs": [
    {
     "name": "stdout",
     "output_type": "stream",
     "text": [
      "Reporte:\n",
      "    Promedio: 50.0%\n",
      "    Tanque 1: 50%\n",
      "    Tanque 2: 25%\n",
      "    Tanque 3: 75% \n",
      "    \n",
      "Reporte:\n",
      "    Promedio: 34.0%\n",
      "    Tanque 1: 23%\n",
      "    Tanque 2: 34%\n",
      "    Tanque 3: 45% \n",
      "    \n"
     ]
    }
   ],
   "source": [
    "def tanquesCombustible(tanque1, tanque2, tanque3):\n",
    "    promedio = (tanque1 + tanque2 + tanque3) / 3\n",
    "    return f\"\"\"Reporte:\n",
    "    Promedio: {promedio}%\n",
    "    Tanque 1: {tanque1}%\n",
    "    Tanque 2: {tanque2}%\n",
    "    Tanque 3: {tanque3}% \n",
    "    \"\"\"\n",
    "\n",
    "print(tanquesCombustible(50, 25, 75))\n",
    "\n",
    "def promedio(tanques):\n",
    "    total = sum(tanques)\n",
    "    cantidad = len(tanques)\n",
    "    return total / cantidad\n",
    "\n",
    "promedio([40, 35, 23]) \n",
    "\n",
    "def reporteAct(tanque1,tanque2,tanque3):\n",
    "    return f\"\"\"Reporte:\n",
    "    Promedio: {promedio([tanque1,tanque2,tanque3])}%\n",
    "    Tanque 1: {tanque1}%\n",
    "    Tanque 2: {tanque2}%\n",
    "    Tanque 3: {tanque3}% \n",
    "    \"\"\"\n",
    "\n",
    "print(reporteAct(23,34,45))"
   ]
  },
  {
   "cell_type": "code",
   "execution_count": null,
   "metadata": {},
   "outputs": [],
   "source": [
    "def informe(horaPre, tiempoVuelo, destino, tanqueExt, tanqueInt):\n",
    "    return f\"\"\"\n",
    "    Destino: {destino}\n",
    "    Tiempo vuelo: {horaPre + tiempoVuelo} min\n",
    "    Combustible: {tanqueExt + tanqueInt} lts\n",
    "    \"\"\"\n",
    "\n",
    "print(informe(14, 51, \"Moon\", 200000, 300000))\n",
    "\n",
    "def informe2(destino, *minutes, **fuel_reservoirs):\n",
    "    return f\"\"\"\n",
    "    Destino: {destino}\n",
    "    Tiempo vuelo: {sum(minutes)} min\n",
    "    Combustible: {sum(fuel_reservoirs.values())}\n",
    "    \"\"\"\n",
    "\n",
    "print(informe2(\"Moon\", 10, 15, 51, main=300000, external=200000))\n",
    "\n",
    "def informe3(destino, *minutes, **fuel_reservoirs):\n",
    "    reporte = f\"\"\"\n",
    "    Destino: {destino}\n",
    "    Tiempo vuelo: {sum(minutes)} min\n",
    "    Combustible: {sum(fuel_reservoirs.values())}\n",
    "    \"\"\"\n",
    "    for tanques, lts in fuel_reservoirs.items():\n",
    "        reporte += f\"{tanques} tank le quedan {lts} lts\\n\"\n",
    "    return reporte\n",
    "\n",
    "print(informe3(\"Moon\", 8, 11, 55, main=300000, external=200000))"
   ]
  }
 ],
 "metadata": {
  "interpreter": {
   "hash": "57baa5815c940fdaff4d14510622de9616cae602444507ba5d0b6727c008cbd6"
  },
  "kernelspec": {
   "display_name": "Python 3.7.8 64-bit",
   "language": "python",
   "name": "python3"
  },
  "language_info": {
   "codemirror_mode": {
    "name": "ipython",
    "version": 3
   },
   "file_extension": ".py",
   "mimetype": "text/x-python",
   "name": "python",
   "nbconvert_exporter": "python",
   "pygments_lexer": "ipython3",
   "version": "3.7.8"
  },
  "orig_nbformat": 4
 },
 "nbformat": 4,
 "nbformat_minor": 2
}
