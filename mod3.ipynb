{
 "cells": [
  {
   "cell_type": "markdown",
   "metadata": {},
   "source": [
    "Expresiones de prueba"
   ]
  },
  {
   "cell_type": "code",
   "execution_count": 2,
   "metadata": {},
   "outputs": [],
   "source": [
    "#Para este ejercicio, escribirás una lógica condicional que imprima una advertencia si un asteroide se acerca a la\n",
    "#Tierra demasiado rápido. La velocidad del asteroide varía dependiendo de lo cerca que esté del sol, y cualquier\n",
    "# velocidad superior a 25 kilómetros por segundo (km/s) merece una advertencia.\n",
    "#Un asteroide se acerca, y viaja a una velocidad de 49 km/s.\n",
    "\n",
    "velocidad = 49\n",
    "if(velocidad>25):\n",
    "    print(\"ADVERTENCIA DE ASTEROIDE A VELOCIDAD PELIGROSA\")\n",
    "else:\n",
    "    print(\"Velocidad no peligrosa\")"
   ]
  },
  {
   "cell_type": "code",
   "execution_count": null,
   "metadata": {},
   "outputs": [],
   "source": [
    "# Si un asteroide entra en la atmósfera de la Tierra a una velocidad mayor o igual a 20 km/s, a veces produce un rayo\n",
    "# de luz que se puede ver desde la Tierra. Escribe la lógica condicional que usa declaraciones if, else, y elif para\n",
    "# alertar a las personas de todo el mundo que deben buscar un asteroide en el cielo. ¡Hay uno que se dirige a la tierra\n",
    "# ahora a una velocidad de 19 km/s!\n",
    "\n",
    "velocidad=19\n",
    "if(velocidad>20):\n",
    "    print(\"Busca el asteroide\")\n",
    "elif(velocidad==20):\n",
    "    print(\"Busca el asteroide\")\n",
    "else:\n",
    "    print(\"Nada para ver\")"
   ]
  },
  {
   "cell_type": "code",
   "execution_count": null,
   "metadata": {},
   "outputs": [],
   "source": [
    "# Si una pieza de un asteroide que es más grande que 25 metros pero más pequeña que 1000 metros golpeara la Tierra,\n",
    "# causaría mucho daño.\n",
    "\n",
    "# La velocidad del asteroide varía en función de lo cerca que esté del sol, y cualquier velocidad superior a 25 kilómetros\n",
    "# por segundo (km/s) merece una advertencia.\n",
    "\n",
    "# Si un asteroide entra en la atmósfera de la Tierra a una velocidad mayor o igual a 20 km/s, a veces produce un rayo de\n",
    "# luz que se puede ver desde la Tierra.\n",
    "vel=20\n",
    "tam=15\n",
    "if(vel>25 and tam>25):\n",
    "    print(\"Cuidado\")\n",
    "elif(vel>=20):\n",
    "    print(\"Busca el asteroide\")\n",
    "elif(tam<25):\n",
    "    print(\"No pasa nada\")\n",
    "else:\n",
    "    print(\"Nada esta pasando\")\n"
   ]
  }
 ],
 "metadata": {
  "interpreter": {
   "hash": "57baa5815c940fdaff4d14510622de9616cae602444507ba5d0b6727c008cbd6"
  },
  "kernelspec": {
   "display_name": "Python 3.7.8 64-bit",
   "language": "python",
   "name": "python3"
  },
  "language_info": {
   "codemirror_mode": {
    "name": "ipython",
    "version": 3
   },
   "file_extension": ".py",
   "mimetype": "text/x-python",
   "name": "python",
   "nbconvert_exporter": "python",
   "pygments_lexer": "ipython3",
   "version": "3.7.8"
  },
  "orig_nbformat": 4
 },
 "nbformat": 4,
 "nbformat_minor": 2
}
