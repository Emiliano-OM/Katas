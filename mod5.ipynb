{
 "cells": [
  {
   "cell_type": "markdown",
   "metadata": {},
   "source": [
    "Matemáticas"
   ]
  },
  {
   "cell_type": "code",
   "execution_count": 4,
   "metadata": {},
   "outputs": [
    {
     "name": "stdout",
     "output_type": "stream",
     "text": [
      "628949330\n",
      "390577534\n"
     ]
    }
   ],
   "source": [
    "from math import ceil, floor\n",
    "\n",
    "tierra = 149597870\n",
    "jupiter = 778547200\n",
    "\n",
    "diskm = jupiter - tierra\n",
    "dismill = diskm*0.621\n",
    "\n",
    "print(diskm)\n",
    "print(ceil(dismill))\n"
   ]
  },
  {
   "cell_type": "code",
   "execution_count": 7,
   "metadata": {},
   "outputs": [
    {
     "name": "stdout",
     "output_type": "stream",
     "text": [
      "91700000\n"
     ]
    }
   ],
   "source": [
    "solPla1=input(\"Ingresa la distancia del Sol al planeta 1: \")\n",
    "solPla2=input(\"Ingresa la distancia del Sol al planeta 2: \")\n",
    "\n",
    "solPla1=int(solPla1)\n",
    "solPla2=int(solPla2)\n",
    "\n",
    "disPlanetas=solPla2-solPla1\n",
    "print(abs(disPlanetas))\n",
    "\n"
   ]
  }
 ],
 "metadata": {
  "interpreter": {
   "hash": "b875ea567c1e94403b72926e4558f5ce9847ca58931ecf834eab125f4febe2b7"
  },
  "kernelspec": {
   "display_name": "Python 3.9.1 64-bit",
   "language": "python",
   "name": "python3"
  },
  "language_info": {
   "codemirror_mode": {
    "name": "ipython",
    "version": 3
   },
   "file_extension": ".py",
   "mimetype": "text/x-python",
   "name": "python",
   "nbconvert_exporter": "python",
   "pygments_lexer": "ipython3",
   "version": "3.7.8"
  },
  "orig_nbformat": 4
 },
 "nbformat": 4,
 "nbformat_minor": 2
}
